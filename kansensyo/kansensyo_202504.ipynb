{
 "cells": [
  {
   "cell_type": "code",
   "execution_count": 1,
   "metadata": {},
   "outputs": [],
   "source": [
    "import numpy as np\n",
    "import pandas as pd\n",
    "import matplotlib.pyplot as plt\n",
    "import seaborn as sns\n",
    "from scipy import stats\n",
    "from sklearn import preprocessing\n",
    "from sklearn.model_selection import train_test_split\n"
   ]
  },
  {
   "cell_type": "code",
   "execution_count": 7,
   "metadata": {},
   "outputs": [],
   "source": [
    "path='C:\\\\Users\\\\watas\\\\Documents\\\\DataScience\\\\kansensyo\\\\kansensyo_202001_202504.csv'\n",
    "df_kansensyo = pd.read_csv(path, encoding='shift-jis')"
   ]
  },
  {
   "cell_type": "code",
   "execution_count": 8,
   "metadata": {},
   "outputs": [
    {
     "name": "stdout",
     "output_type": "stream",
     "text": [
      "<class 'pandas.core.frame.DataFrame'>\n",
      "RangeIndex: 276 entries, 0 to 275\n",
      "Data columns (total 89 columns):\n",
      " #   Column                    Non-Null Count  Dtype\n",
      "---  ------                    --------------  -----\n",
      " 0   年                         276 non-null    int64\n",
      " 1   週                         276 non-null    int64\n",
      " 2   エボラ出血熱                    276 non-null    int64\n",
      " 3   クリミア・コンゴ出血熱               276 non-null    int64\n",
      " 4   痘そう                       276 non-null    int64\n",
      " 5   南米出血熱                     276 non-null    int64\n",
      " 6   ペスト                       276 non-null    int64\n",
      " 7   マールブルグ病                   276 non-null    int64\n",
      " 8   ラッサ熱                      276 non-null    int64\n",
      " 9   急性灰白髄炎                    276 non-null    int64\n",
      " 10  結核                        276 non-null    int64\n",
      " 11  ジフテリア                     276 non-null    int64\n",
      " 12  重症急性呼吸器症候群                276 non-null    int64\n",
      " 13  中東呼吸器症候群                  276 non-null    int64\n",
      " 14  鳥インフルエンザ（H5N1)            276 non-null    int64\n",
      " 15  鳥インフルエンザ（H7N9)            276 non-null    int64\n",
      " 16  コレラ                       276 non-null    int64\n",
      " 17  細菌性赤痢                     276 non-null    int64\n",
      " 18  腸管出血性大腸菌感染症               276 non-null    int64\n",
      " 19  腸チフス                      276 non-null    int64\n",
      " 20  パラチフス                     276 non-null    int64\n",
      " 21  E型肝炎                      276 non-null    int64\n",
      " 22  ウエストナイル熱                  276 non-null    int64\n",
      " 23  A型肝炎                      276 non-null    int64\n",
      " 24  エキノコックス症                  276 non-null    int64\n",
      " 25  エムポックス                    276 non-null    int64\n",
      " 26  黄熱                        276 non-null    int64\n",
      " 27  オウム病                      276 non-null    int64\n",
      " 28  オムスク出血熱                   276 non-null    int64\n",
      " 29  回帰熱                       276 non-null    int64\n",
      " 30  キャサヌル森林病                  276 non-null    int64\n",
      " 31  Ｑ熱                        276 non-null    int64\n",
      " 32  狂犬病                       276 non-null    int64\n",
      " 33  コクシジオイデス症                 276 non-null    int64\n",
      " 34  ジカウイルス感染症                 276 non-null    int64\n",
      " 35  重症熱性血小板減少症候群              276 non-null    int64\n",
      " 36  腎症候性出血熱                   276 non-null    int64\n",
      " 37  西部ウマ脳炎                    276 non-null    int64\n",
      " 38  ダニ媒介脳炎                    276 non-null    int64\n",
      " 39  炭疽                        276 non-null    int64\n",
      " 40  チクングニア熱                   276 non-null    int64\n",
      " 41  つつが虫病                     276 non-null    int64\n",
      " 42  デング熱                      276 non-null    int64\n",
      " 43  東部ウマ脳炎                    276 non-null    int64\n",
      " 44  鳥インフルエンザ（H5N1およびH7N9を除く）  276 non-null    int64\n",
      " 45  ニパウイルス感染症                 276 non-null    int64\n",
      " 46  日本紅斑熱                     276 non-null    int64\n",
      " 47  日本脳炎                      276 non-null    int64\n",
      " 48  ハンタウイルス肺症候群               276 non-null    int64\n",
      " 49  Ｂウイルス病                    276 non-null    int64\n",
      " 50  鼻疽                        276 non-null    int64\n",
      " 51  ブルセラ症                     276 non-null    int64\n",
      " 52  ベネズエラウマ脳炎                 276 non-null    int64\n",
      " 53  ヘンドラウイルス感染症               276 non-null    int64\n",
      " 54  発しんチフス                    276 non-null    int64\n",
      " 55  ボツリヌス症                    276 non-null    int64\n",
      " 56  マラリア                      276 non-null    int64\n",
      " 57  野兎病                       276 non-null    int64\n",
      " 58  ライム病                      276 non-null    int64\n",
      " 59  リッサウイルス感染症                276 non-null    int64\n",
      " 60  リフトバレー熱                   276 non-null    int64\n",
      " 61  類鼻疽                       276 non-null    int64\n",
      " 62  レジオネラ症                    276 non-null    int64\n",
      " 63  レプトスピラ症                   276 non-null    int64\n",
      " 64  ロッキー山紅斑熱                  276 non-null    int64\n",
      " 65  アメーバ赤痢                    276 non-null    int64\n",
      " 66  ウイルス性肝炎（Ｅ型肝炎及びＡ型肝炎を除く。）   276 non-null    int64\n",
      " 67  カルバペネム耐性腸内細菌目細菌感染症        276 non-null    int64\n",
      " 68  急性弛緩性麻痺（急性灰白髄炎を除く。）       276 non-null    int64\n",
      " 69  急性脳炎                      276 non-null    int64\n",
      " 70  クリプトスポリジウム症               276 non-null    int64\n",
      " 71  クロイツフェルト・ヤコブ病             276 non-null    int64\n",
      " 72  劇症型溶血性レンサ球菌感染症            276 non-null    int64\n",
      " 73  後天性免疫不全症候群                276 non-null    int64\n",
      " 74  ジアルジア症                    276 non-null    int64\n",
      " 75  侵襲性インフルエンザ菌感染症            276 non-null    int64\n",
      " 76  侵襲性髄膜炎菌感染症                276 non-null    int64\n",
      " 77  侵襲性肺炎球菌感染症                276 non-null    int64\n",
      " 78  水痘（入院例に限る）                276 non-null    int64\n",
      " 79  先天性風しん症候群                 276 non-null    int64\n",
      " 80  梅毒                        276 non-null    int64\n",
      " 81  播種性クリプトコックス症              276 non-null    int64\n",
      " 82  破傷風                       276 non-null    int64\n",
      " 83  バンコマイシン耐性黄色ブドウ球菌感染症       276 non-null    int64\n",
      " 84  バンコマイシン耐性腸球菌感染症           276 non-null    int64\n",
      " 85  百日咳                       276 non-null    int64\n",
      " 86  風しん                       276 non-null    int64\n",
      " 87  麻しん                       276 non-null    int64\n",
      " 88  薬剤耐性アシネトバクター感染症           276 non-null    int64\n",
      "dtypes: int64(89)\n",
      "memory usage: 192.0 KB\n"
     ]
    }
   ],
   "source": [
    "df_kansensyo.info()"
   ]
  },
  {
   "cell_type": "code",
   "execution_count": null,
   "metadata": {},
   "outputs": [],
   "source": []
  }
 ],
 "metadata": {
  "kernelspec": {
   "display_name": "Python 3",
   "language": "python",
   "name": "python3"
  },
  "language_info": {
   "codemirror_mode": {
    "name": "ipython",
    "version": 3
   },
   "file_extension": ".py",
   "mimetype": "text/x-python",
   "name": "python",
   "nbconvert_exporter": "python",
   "pygments_lexer": "ipython3",
   "version": "3.10.6"
  }
 },
 "nbformat": 4,
 "nbformat_minor": 2
}
